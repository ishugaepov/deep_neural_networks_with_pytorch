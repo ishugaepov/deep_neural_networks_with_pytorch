{
 "cells": [
  {
   "cell_type": "code",
   "execution_count": 1,
   "metadata": {},
   "outputs": [
    {
     "data": {
      "text/plain": [
       "<torch._C.Generator at 0x1a18c65cf0>"
      ]
     },
     "execution_count": 1,
     "metadata": {},
     "output_type": "execute_result"
    }
   ],
   "source": [
    "%matplotlib inline\n",
    "%config InlineBackend.figure_format ='retina'\n",
    "import seaborn as sns\n",
    "import matplotlib.pyplot as plt\n",
    "import numpy as np\n",
    "import pandas as pd\n",
    "\n",
    "import torch\n",
    "import torchvision.transforms as transforms\n",
    "import torchvision.datasets as dsets\n",
    "\n",
    "\n",
    "torch.manual_seed(13)"
   ]
  },
  {
   "cell_type": "markdown",
   "metadata": {},
   "source": [
    "# Deep Neural Networks\n",
    "\n",
    "Use `nn.ModuleList` to build Nets with arbitrary number of hidden layers"
   ]
  },
  {
   "cell_type": "code",
   "execution_count": 6,
   "metadata": {},
   "outputs": [],
   "source": [
    "import torch.nn as nn\n",
    "\n",
    "\n",
    "class Net(nn.Module):\n",
    "    def __init__(self, dims):\n",
    "        super(Net, self).__init__()\n",
    "        \n",
    "        self.hidden = nn.ModuleList()\n",
    "        for in_dim, out_dim in zip(dims, dims[1:]):\n",
    "            self.hidden.append(nn.Linear(in_dim, out_dim))\n",
    "            \n",
    "    def forward(self, x):\n",
    "        L = len(self.hidden)\n",
    "        \n",
    "        z = x\n",
    "        for i in range(L):\n",
    "            z = self.hidden[i](z)\n",
    "            if i < L - 1:\n",
    "                z = torch.relu(z)\n",
    "        return z"
   ]
  },
  {
   "cell_type": "markdown",
   "metadata": {},
   "source": [
    "Apply model to MNIST dataset from previous week."
   ]
  },
  {
   "cell_type": "code",
   "execution_count": 3,
   "metadata": {},
   "outputs": [],
   "source": [
    "from torch.utils.data import Dataset, DataLoader\n",
    "\n",
    "\n",
    "train_dataset = dsets.MNIST(root='../../week_4/data', train=True, download=False, transform=transforms.ToTensor())\n",
    "validation_dataset = dsets.MNIST(root='../../week_4/data', train=False, download=False, transform=transforms.ToTensor())\n",
    "\n",
    "# Data\n",
    "train_dataloader = DataLoader(dataset=train_dataset, batch_size=100)\n",
    "validation_loader = DataLoader(dataset=validation_dataset, batch_size=100)"
   ]
  },
  {
   "cell_type": "code",
   "execution_count": 4,
   "metadata": {},
   "outputs": [],
   "source": [
    "def train(train_dataloader, validation_loader, model, loss_f, optimizer, num_epoch=10):\n",
    "    N_test = len(validation_loader)\n",
    "\n",
    "    # Training Loop\n",
    "    losses = []\n",
    "    accuracy = []\n",
    "    for epoch in range(num_epoch):\n",
    "        total_loss = 0\n",
    "        for x, y in train_dataloader:\n",
    "            y_hat = model(x.view(-1, 28 * 28))\n",
    "            loss = loss_f(y_hat, y)\n",
    "            optimizer.zero_grad()\n",
    "            loss.backward()\n",
    "            optimizer.step()\n",
    "\n",
    "            total_loss += loss.item()\n",
    "        losses.append(total_loss)\n",
    "\n",
    "        correct = 0\n",
    "        for x_test, y_test in validation_loader:\n",
    "            z = model(x_test.view(-1, 28 * 28))\n",
    "            _, yhat = torch.max(z.data, 1)\n",
    "            correct += (yhat == y_test).sum().item()\n",
    "\n",
    "        accuracy.append(correct / N_test)\n",
    "    return losses, accuracy"
   ]
  },
  {
   "cell_type": "code",
   "execution_count": 7,
   "metadata": {},
   "outputs": [],
   "source": [
    "from torch.nn import CrossEntropyLoss\n",
    "\n",
    "\n",
    "# Model\n",
    "model = Net([28 * 28, 100, 100, 10])\n",
    "\n",
    "# Loss\n",
    "loss_f = CrossEntropyLoss()\n",
    "\n",
    "# Optimizer\n",
    "optimizer = torch.optim.SGD(model.parameters(), lr=0.1)\n",
    "\n",
    "losses, accuracy = train(train_dataloader, validation_loader, model, loss_f, optimizer, num_epoch=10)"
   ]
  },
  {
   "cell_type": "code",
   "execution_count": 8,
   "metadata": {},
   "outputs": [
    {
     "data": {
      "text/plain": [
       "97.38"
      ]
     },
     "execution_count": 8,
     "metadata": {},
     "output_type": "execute_result"
    }
   ],
   "source": [
    "accuracy[-1]"
   ]
  },
  {
   "cell_type": "markdown",
   "metadata": {},
   "source": [
    "## Dropout"
   ]
  },
  {
   "cell_type": "code",
   "execution_count": 9,
   "metadata": {},
   "outputs": [],
   "source": [
    "class Net(nn.Module):\n",
    "    \n",
    "    # Constructor\n",
    "    def __init__(self, in_size, n_hidden, out_size, p=0):\n",
    "        super(Net, self).__init__()\n",
    "        self.drop = nn.Dropout(p=p)\n",
    "        self.linear1 = nn.Linear(in_size, n_hidden)\n",
    "        self.linear2 = nn.Linear(n_hidden, n_hidden)\n",
    "        self.linear3 = nn.Linear(n_hidden, out_size)\n",
    "    \n",
    "    # Prediction function\n",
    "    def forward(self, x):\n",
    "        x = self.linear1(x)\n",
    "        x = self.drop(x)\n",
    "        x = torch.relu(x)\n",
    "        \n",
    "        x = self.linear2(x)\n",
    "        x = self.drop(x)\n",
    "        x = torch.relu(x)\n",
    "        \n",
    "        x = self.linear3(x)\n",
    "        return x"
   ]
  },
  {
   "cell_type": "code",
   "execution_count": 10,
   "metadata": {},
   "outputs": [],
   "source": [
    "model = Net(28 * 28, 100, 10)\n",
    "model_drop = Net(28 * 28, 100, 10, p=0.01)"
   ]
  },
  {
   "cell_type": "markdown",
   "metadata": {},
   "source": [
    "**First** We need to set our model in the training mode in order to activate dropout"
   ]
  },
  {
   "cell_type": "code",
   "execution_count": 11,
   "metadata": {},
   "outputs": [
    {
     "data": {
      "text/plain": [
       "Net(\n",
       "  (drop): Dropout(p=0.01)\n",
       "  (linear1): Linear(in_features=784, out_features=100, bias=True)\n",
       "  (linear2): Linear(in_features=100, out_features=100, bias=True)\n",
       "  (linear3): Linear(in_features=100, out_features=10, bias=True)\n",
       ")"
      ]
     },
     "execution_count": 11,
     "metadata": {},
     "output_type": "execute_result"
    }
   ],
   "source": [
    "model_drop.train()"
   ]
  },
  {
   "cell_type": "code",
   "execution_count": 12,
   "metadata": {},
   "outputs": [
    {
     "data": {
      "text/plain": [
       "97.1"
      ]
     },
     "execution_count": 12,
     "metadata": {},
     "output_type": "execute_result"
    }
   ],
   "source": [
    "# With dropout\n",
    "optimizer = torch.optim.SGD(model_drop.parameters(), lr=0.1)\n",
    "_, accuracy = train(train_dataloader, validation_loader, model_drop, loss_f, optimizer, num_epoch=10)\n",
    "accuracy[-1]"
   ]
  },
  {
   "cell_type": "code",
   "execution_count": 13,
   "metadata": {},
   "outputs": [
    {
     "data": {
      "text/plain": [
       "97.3"
      ]
     },
     "execution_count": 13,
     "metadata": {},
     "output_type": "execute_result"
    }
   ],
   "source": [
    "# Without dropout\n",
    "optimizer = torch.optim.SGD(model.parameters(), lr=0.1)\n",
    "_, accuracy = train(train_dataloader, validation_loader, model, loss_f, optimizer, num_epoch=10)\n",
    "accuracy[-1]"
   ]
  },
  {
   "cell_type": "markdown",
   "metadata": {},
   "source": [
    "**Second** For evaluation we need to turnoff dropout mechanism"
   ]
  },
  {
   "cell_type": "code",
   "execution_count": 14,
   "metadata": {},
   "outputs": [
    {
     "data": {
      "text/plain": [
       "Net(\n",
       "  (drop): Dropout(p=0.01)\n",
       "  (linear1): Linear(in_features=784, out_features=100, bias=True)\n",
       "  (linear2): Linear(in_features=100, out_features=100, bias=True)\n",
       "  (linear3): Linear(in_features=100, out_features=10, bias=True)\n",
       ")"
      ]
     },
     "execution_count": 14,
     "metadata": {},
     "output_type": "execute_result"
    }
   ],
   "source": [
    "model_drop.eval()"
   ]
  },
  {
   "cell_type": "markdown",
   "metadata": {},
   "source": [
    "## Weights Initialization \n",
    "\n",
    "Example `torch.nn.init.xavier_uniform_(linear.weight)`"
   ]
  },
  {
   "cell_type": "code",
   "execution_count": 17,
   "metadata": {},
   "outputs": [],
   "source": [
    "class Net_Xavier(nn.Module):\n",
    "    \n",
    "    def __init__(self, dims):\n",
    "        super(Net, self).__init__()\n",
    "\n",
    "        self.hidden = nn.ModuleList()\n",
    "        for in_dim, out_dim in zip(dims, dims[1:]):\n",
    "            linear = nn.Linear(in_dim, out_dim)\n",
    "            # !!! Weight initializer\n",
    "            torch.nn.init.xavier_uniform_(linear.weight)\n",
    "            self.hidden.append(linear)\n",
    "            \n",
    "    def forward(self, x):\n",
    "        L = len(self.hidden)\n",
    "        \n",
    "        z = x\n",
    "        for i in range(L):\n",
    "            z = self.hidden[i](z)\n",
    "            if i < L - 1:\n",
    "                z = torch.relu(z)\n",
    "        return z"
   ]
  },
  {
   "cell_type": "markdown",
   "metadata": {},
   "source": [
    "## Gradient Descent With Momentum\n",
    "\n",
    "\n",
    "In PyTorch: Set `momentum` parameter in `torch.optim.SGD` to non-zero value"
   ]
  },
  {
   "cell_type": "code",
   "execution_count": 18,
   "metadata": {},
   "outputs": [],
   "source": []
  }
 ],
 "metadata": {
  "kernelspec": {
   "display_name": "Python 3",
   "language": "python",
   "name": "python3"
  },
  "language_info": {
   "codemirror_mode": {
    "name": "ipython",
    "version": 3
   },
   "file_extension": ".py",
   "mimetype": "text/x-python",
   "name": "python",
   "nbconvert_exporter": "python",
   "pygments_lexer": "ipython3",
   "version": "3.7.3"
  },
  "toc": {
   "base_numbering": 1,
   "nav_menu": {},
   "number_sections": true,
   "sideBar": true,
   "skip_h1_title": false,
   "title_cell": "Table of Contents",
   "title_sidebar": "Contents",
   "toc_cell": false,
   "toc_position": {},
   "toc_section_display": true,
   "toc_window_display": false
  }
 },
 "nbformat": 4,
 "nbformat_minor": 2
}
