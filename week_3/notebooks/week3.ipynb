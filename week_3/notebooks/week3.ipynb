{
 "cells": [
  {
   "cell_type": "code",
   "execution_count": 1,
   "metadata": {},
   "outputs": [
    {
     "data": {
      "text/plain": [
       "<torch._C.Generator at 0x1a23fffcf0>"
      ]
     },
     "execution_count": 1,
     "metadata": {},
     "output_type": "execute_result"
    }
   ],
   "source": [
    "%matplotlib inline\n",
    "%config InlineBackend.figure_format ='retina'\n",
    "import seaborn as sns\n",
    "import matplotlib.pyplot as plt\n",
    "import numpy as np\n",
    "import pandas as pd\n",
    "import torch\n",
    "\n",
    "\n",
    "torch.manual_seed(13)"
   ]
  },
  {
   "cell_type": "markdown",
   "metadata": {},
   "source": [
    "# Logistic Regression\n",
    "\n",
    "$\\newcommand{\\vecx}{{\\bf x}}$\n",
    "$\\newcommand{\\vecw}{{\\bf w}}$\n",
    "\n",
    "## Problem Formulation\n",
    "We have supervised classification problem. Given training dataset $X^l = \\{ (\\vecx_1,y_1)\\ldots, (\\vecx_l, y_l) \\}$, where $\\bf{x}_i \\in \\mathbb{R}^n$ and $y\\in \\{0,1\\}$.\n",
    "\n",
    "## Model\n",
    "We will find solution in a following form: $\\vecx \\cdot \\vecw^T$ which is hyperplane in $n$-dimensional space.\n",
    "\n",
    "To make prediction: $\\hat{y} = \\sigma (\\vecx \\cdot \\vecw^T)$.\n",
    "\n",
    "## Loss Function\n",
    "General Loss function can be defined in the following form:\n",
    "\n",
    "$$ \\mathcal{L}(X^l \\mid \\vecw) = \\sum\\limits_{i=1}^{l} \\mathcal{I}\\{ (y_i - 0.5) (\\vecx \\cdot \\vecw^T) < 0 \\} . $$\n",
    "\n",
    "Our goal is $\\mathcal{L}(X^l \\mid \\vecw) \\to \\min $ - reduce total number of misclassifications.\n",
    "\n",
    "## Optimization\n",
    "In this form $\\mathcal{L}$ is not differentiable, so we will use $\\mathcal{L} \\leq L$ which is defferentiable, so we can find its minimum wrt $\\vecw$ using Gradient Descent.\n",
    "\n",
    "In case of logistic regression $L = -\\sum y_i \\log \\sigma(\\vecx_i \\vecw^T) + (1-y_i) \\log(1 -\\sigma(\\vecx_i \\vecw^T) ) $ - logistic loss.\n",
    "\n",
    "### Likelihood\n",
    "\n",
    "Likelihood of data given parameters:\n",
    "\n",
    "$$\\mathcal{L}(X^l \\mid \\vecw) = \\prod\\limits_{i=1}^{l} P \\{ y=y_i \\mid \\vecx_i, \\vecw \\}, $$\n",
    "where $P \\{ y=y_i \\mid \\vecx_i, \\vecw \\} = \\sigma(\\vecx_i \\vecw^T)^{y_i} (1-\\sigma(\\vecx_i \\vecw^T))^{1-y_i}$.\n",
    "\n",
    "We can find $\\vecw$ such that $P\\{ \\vecw | X^l \\} = \\frac{P(\\vecw) P(X^l \\mid \\vecw)}{P(X^l)} \\to \\max$.\n",
    "\n",
    "If we ignore $P(\\vecw)$ then $$\\begin{align} \\vecw &= \\arg\\max \\log \\mathcal{L}(X^l \\mid \\vecw) \\\\ &= \\arg\\max  \\sum\\limits_{i=1}^{l} \\left( y_i \\log \\sigma(\\vecx_i \\vecw^T) + (1-y_i) \\log(1 -\\sigma(\\vecx_i \\vecw^T)  \\right)  \\\\ &= \\arg\\max - \\sum\\limits_{i=1}^{l} \\left( y_i \\log (1 + e^{-\\vecx_i \\vecw^T}) + (1-y_i) \\log(1 + e^{\\vecx_i \\vecw^T})  \\right) \\end{align}  $$\n",
    "\n",
    "Therefore, maximazing log-likelihood is the same as minimazing logistic-loss."
   ]
  },
  {
   "cell_type": "code",
   "execution_count": 2,
   "metadata": {},
   "outputs": [],
   "source": [
    "import torch.nn as nn\n",
    "\n",
    "\n",
    "class LogReg(nn.Module):\n",
    "    def __init__(self, in_size):\n",
    "        super(LogReg, self).__init__()\n",
    "        self.model = nn.Sequential(nn.Linear(in_size, 1), nn.Sigmoid())\n",
    "        \n",
    "    def forward(self, x):\n",
    "        out = self.model(x)\n",
    "        return out"
   ]
  },
  {
   "cell_type": "code",
   "execution_count": 5,
   "metadata": {},
   "outputs": [
    {
     "data": {
      "text/plain": [
       "tensor([0.3182], grad_fn=<SigmoidBackward>)"
      ]
     },
     "execution_count": 5,
     "metadata": {},
     "output_type": "execute_result"
    }
   ],
   "source": [
    "lr = LogReg(1)\n",
    "lr(torch.tensor([1.]))"
   ]
  },
  {
   "cell_type": "code",
   "execution_count": 8,
   "metadata": {},
   "outputs": [
    {
     "name": "stdout",
     "output_type": "stream",
     "text": [
      "[Parameter containing:\n",
      "tensor([[-0.9694]], requires_grad=True), Parameter containing:\n",
      "tensor([0.2071], requires_grad=True)]\n"
     ]
    }
   ],
   "source": [
    "print(list(lr.parameters()))"
   ]
  },
  {
   "cell_type": "markdown",
   "metadata": {},
   "source": [
    "## Dataset"
   ]
  },
  {
   "cell_type": "code",
   "execution_count": 10,
   "metadata": {},
   "outputs": [
    {
     "data": {
      "image/png": "[encoded data removed]",
      "text/plain": [
       "<Figure size 432x288 with 1 Axes>"
      ]
     },
     "metadata": {
      "image/png": {
       "height": 250,
       "width": 373
      },
      "needs_background": "light"
     },
     "output_type": "display_data"
    }
   ],
   "source": [
    "from torch.utils.data import Dataset, DataLoader\n",
    "\n",
    "\n",
    "class Data(Dataset):\n",
    "    def __init__(self):\n",
    "        self.x = torch.arange(-1, 1, 0.1).view(-1, 1)\n",
    "        self.y = torch.zeros(self.x.shape[0], 1)\n",
    "        self.y[self.x[:, 0] > 0.2] = 1\n",
    "        self.len = self.x.shape[0]\n",
    "    \n",
    "    def __getitem__(self, index):      \n",
    "        return self.x[index], self.y[index]\n",
    "    \n",
    "    def __len__(self):\n",
    "        return self.len\n",
    "\n",
    "\n",
    "x, y = zip(*[(x, y) for x, y in Data()])\n",
    "plt.plot(x, y, '+')\n",
    "plt.show()"
   ]
  },
  {
   "cell_type": "markdown",
   "metadata": {},
   "source": [
    "## Training"
   ]
  },
  {
   "cell_type": "code",
   "execution_count": 15,
   "metadata": {},
   "outputs": [],
   "source": [
    "# Binary Cross Entropy Loss\n",
    "loss_f = nn.BCELoss()\n",
    "\n",
    "optimizer = torch.optim.SGD(lr.parameters(), lr=0.1)\n",
    "\n",
    "dataset = Data()\n",
    "dataloader = DataLoader(dataset=dataset, batch_size=5)\n",
    "\n",
    "for epoch in range(100):\n",
    "    for x, y in dataloader:\n",
    "        loss = loss_f(lr(x), y)\n",
    "        optimizer.zero_grad()\n",
    "        loss.backward()\n",
    "        optimizer.step()"
   ]
  },
  {
   "cell_type": "code",
   "execution_count": 16,
   "metadata": {},
   "outputs": [
    {
     "name": "stdout",
     "output_type": "stream",
     "text": [
      "[Parameter containing:\n",
      "tensor([[3.6738]], requires_grad=True), Parameter containing:\n",
      "tensor([-0.8978], requires_grad=True)]\n"
     ]
    }
   ],
   "source": [
    "print(list(lr.parameters()))"
   ]
  },
  {
   "cell_type": "code",
   "execution_count": 19,
   "metadata": {},
   "outputs": [
    {
     "data": {
      "image/png": "[encoded data removed]",
      "text/plain": [
       "<Figure size 432x288 with 1 Axes>"
      ]
     },
     "metadata": {
      "image/png": {
       "height": 250,
       "width": 372
      },
      "needs_background": "light"
     },
     "output_type": "display_data"
    }
   ],
   "source": [
    "x, y = zip(*[(x, y) for x, y in Data()])\n",
    "plt.plot(x, y, '+')\n",
    "x = np.array(x)\n",
    "plt.plot(x, x * (3.6738) + (-0.8978), 'r')\n",
    "plt.show()"
   ]
  }
 ],
 "metadata": {
  "kernelspec": {
   "display_name": "Python 3",
   "language": "python",
   "name": "python3"
  },
  "language_info": {
   "codemirror_mode": {
    "name": "ipython",
    "version": 3
   },
   "file_extension": ".py",
   "mimetype": "text/x-python",
   "name": "python",
   "nbconvert_exporter": "python",
   "pygments_lexer": "ipython3",
   "version": "3.7.3"
  },
  "toc": {
   "base_numbering": 1,
   "nav_menu": {},
   "number_sections": true,
   "sideBar": true,
   "skip_h1_title": false,
   "title_cell": "Table of Contents",
   "title_sidebar": "Contents",
   "toc_cell": false,
   "toc_position": {},
   "toc_section_display": true,
   "toc_window_display": false
  }
 },
 "nbformat": 4,
 "nbformat_minor": 2
}
